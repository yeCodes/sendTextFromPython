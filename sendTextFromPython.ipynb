{
 "cells": [
  {
   "cell_type": "markdown",
   "id": "89540281",
   "metadata": {},
   "source": [
    "## Send text to mobile phone from Python\n",
    "\n",
    "https://www.youtube.com/watch?v=87nz18KpXYg\n",
    "\n",
    "\n",
    "https://textbelt.com/"
   ]
  },
  {
   "cell_type": "code",
   "execution_count": 6,
   "id": "72e1e73d",
   "metadata": {},
   "outputs": [],
   "source": [
    "phoneString = '+447911123456'\n",
    "name = 'Angie'"
   ]
  },
  {
   "cell_type": "code",
   "execution_count": 3,
   "id": "1a176dd1",
   "metadata": {},
   "outputs": [
    {
     "name": "stdout",
     "output_type": "stream",
     "text": [
      "{'success': False, 'error': 'Your phone number was not provided in E.164 format, or free SMS are disabled for this country'}\n"
     ]
    }
   ],
   "source": [
    "import requests\n",
    "# requests library often used to GET + POST == get info from + send to server \n",
    "\n",
    "resp = requests.post('https://textbelt.com/text', {\n",
    "  'phone': '00447911123456',\n",
    "  'message': 'X says hello, mate',\n",
    "  'key': 'textbelt',\n",
    "})\n",
    "print(resp.json())"
   ]
  },
  {
   "cell_type": "markdown",
   "id": "386bbedd",
   "metadata": {},
   "source": [
    "Mobile phone no. required format: E.164 format\n",
    "Example string: '+447911123456'\n",
    "Note: Must include the '+' instead of 00\n"
   ]
  },
  {
   "cell_type": "code",
   "execution_count": 4,
   "id": "bd254642",
   "metadata": {},
   "outputs": [
    {
     "name": "stdout",
     "output_type": "stream",
     "text": [
      "{'success': True, 'textId': '97311670963545101', 'quotaRemaining': 0}\n"
     ]
    }
   ],
   "source": [
    "import requests\n",
    "# requests library often used to GET + POST == get info from + send to server \n",
    "\n",
    "resp = requests.post('https://textbelt.com/text', {\n",
    "  'phone': phoneString,\n",
    "  'message': f'{name} says hello, mate',\n",
    "  'key': 'textbelt',\n",
    "})\n",
    "print(resp.json())"
   ]
  },
  {
   "cell_type": "code",
   "execution_count": null,
   "id": "79369602",
   "metadata": {},
   "outputs": [],
   "source": []
  }
 ],
 "metadata": {
  "kernelspec": {
   "display_name": "Python 3 (ipykernel)",
   "language": "python",
   "name": "python3"
  },
  "language_info": {
   "codemirror_mode": {
    "name": "ipython",
    "version": 3
   },
   "file_extension": ".py",
   "mimetype": "text/x-python",
   "name": "python",
   "nbconvert_exporter": "python",
   "pygments_lexer": "ipython3",
   "version": "3.9.12"
  }
 },
 "nbformat": 4,
 "nbformat_minor": 5
}
